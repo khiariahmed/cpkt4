{
  "nbformat": 4,
  "nbformat_minor": 0,
  "metadata": {
    "colab": {
      "name": "checkpoint4.ipynb",
      "provenance": []
    },
    "kernelspec": {
      "display_name": "Python 3",
      "name": "python3"
    },
    "language_info": {
      "name": "python"
    }
  },
  "cells": [
    {
      "cell_type": "code",
      "metadata": {
        "id": "QxX189ftgh8t"
      },
      "source": [
        "def max_of_two( x, y ):\n",
        "    if x > y:\n",
        "        return x\n",
        "    return y\n",
        "def max_of_three( x, y, z ):\n",
        "    return max_of_two( x, max_of_two( y, z ) )\n",
        "print(max_of_three(20,35, 19))"
      ],
      "execution_count": null,
      "outputs": []
    },
    {
      "cell_type": "code",
      "metadata": {
        "colab": {
          "base_uri": "https://localhost:8080/"
        },
        "id": "24ES96NYg_0n",
        "outputId": "068cc458-9323-4de7-92cf-2ef4dbd86742"
      },
      "source": [
        "def calculation(a,b):\n",
        "  return a+b,a-b\n",
        "calculation(5,6)"
      ],
      "execution_count": 7,
      "outputs": [
        {
          "output_type": "execute_result",
          "data": {
            "text/plain": [
              "(11, -1)"
            ]
          },
          "metadata": {
            "tags": []
          },
          "execution_count": 7
        }
      ]
    },
    {
      "cell_type": "code",
      "metadata": {
        "colab": {
          "base_uri": "https://localhost:8080/"
        },
        "id": "3eODpRIihVAp",
        "outputId": "28daaa89-261f-4c59-b147-61bf4258ed42"
      },
      "source": [
        "def sum(list):\n",
        "  s=0\n",
        "  for i in(list):\n",
        "    s=s+i\n",
        "  return s\n",
        "def multi (list):\n",
        "  l=1\n",
        "  for i in (list):\n",
        "    l=l*i\n",
        "  return l\n",
        "new1=[]\n",
        "liste=[8,7,6]\n",
        "for i in range(0,len(liste),2):\n",
        "  new1.append(liste[i])\n",
        "print(sum(new1))\n",
        "for i in range(1,len(liste),2):\n",
        "  print(multi(new1))"
      ],
      "execution_count": 8,
      "outputs": [
        {
          "output_type": "stream",
          "text": [
            "14\n",
            "48\n"
          ],
          "name": "stdout"
        }
      ]
    },
    {
      "cell_type": "code",
      "metadata": {
        "colab": {
          "base_uri": "https://localhost:8080/"
        },
        "id": "BwCRyfC6jfVj",
        "outputId": "ed1ef0f1-886b-448d-ef90-4b5834162b59"
      },
      "source": [
        "items=[n for n in input().split('-')]\n",
        "items.sort()\n",
        "print('-'.join(items))"
      ],
      "execution_count": 10,
      "outputs": [
        {
          "output_type": "stream",
          "text": [
            "green-red-yellow-black-white\n",
            "black-green-red-white-yellow\n"
          ],
          "name": "stdout"
        }
      ]
    }
  ]
}